{
 "cells": [
  {
   "cell_type": "markdown",
   "id": "fe785ea8",
   "metadata": {},
   "source": [
    "Check pkl format"
   ]
  },
  {
   "cell_type": "code",
   "execution_count": 2,
   "id": "5cf1e2cc",
   "metadata": {},
   "outputs": [
    {
     "name": "stdout",
     "output_type": "stream",
     "text": [
      "5 sample entries from the dataset:\n",
      "['LOAD', 'UNIQUE', 'CONST', 'REG']\n",
      "['INT_ADD', 'UNIQUE', 'UNIQUE', 'CONST']\n",
      "['LOAD', 'UNIQUE', 'CONST', 'UNIQUE']\n",
      "['INT_EQUAL', 'REG', 'UNIQUE', 'CONST']\n",
      "['CAST', 'UNIQUE', 'UNIQUE']\n",
      "['CBRANCH', 'MEM', 'REG']\n",
      "['RETURN', 'CONST']\n",
      "['COPY', 'MEM', 'MEM']\n",
      "['COPY', 'MEM', 'MEM']\n",
      "['CALL', 'REG', 'MEM', 'REG', 'REG', 'CONST']\n",
      "['INDIRECT', 'MEM', 'MEM', 'CONST']\n",
      "['INDIRECT', 'MEM', 'MEM', 'CONST']\n",
      "['INT_EQUAL', 'REG', 'REG', 'CONST']\n",
      "['CBRANCH', 'MEM', 'REG']\n",
      "['INT_ADD', 'UNIQUE', 'REG', 'CONST']\n",
      "['LOAD', 'UNIQUE', 'CONST', 'UNIQUE']\n",
      "['CAST', 'UNIQUE', 'UNIQUE']\n",
      "['INT_EQUAL', 'REG', 'UNIQUE', 'CONST']\n",
      "['CBRANCH', 'MEM', 'REG']\n",
      "['LOAD', 'UNIQUE', 'CONST', 'REG']\n"
     ]
    }
   ],
   "source": [
    "import pickle\n",
    "\n",
    "with open(\"/home/tommy/Projects/PcodeBERT/outputs/preprocessed/pcode_corpus_x86_64.pkl\", \"rb\") as f:\n",
    "    data = pickle.load(f)\n",
    "\n",
    "print(f\"5 sample entries from the dataset:\")\n",
    "for entry in data[:20]:\n",
    "    print(entry)"
   ]
  }
 ],
 "metadata": {
  "kernelspec": {
   "display_name": "PcodeBERT",
   "language": "python",
   "name": "python3"
  },
  "language_info": {
   "codemirror_mode": {
    "name": "ipython",
    "version": 3
   },
   "file_extension": ".py",
   "mimetype": "text/x-python",
   "name": "python",
   "nbconvert_exporter": "python",
   "pygments_lexer": "ipython3",
   "version": "3.12.0"
  }
 },
 "nbformat": 4,
 "nbformat_minor": 5
}
