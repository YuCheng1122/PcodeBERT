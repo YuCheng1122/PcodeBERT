{
 "cells": [
  {
   "cell_type": "markdown",
   "id": "fe785ea8",
   "metadata": {},
   "source": [
    "Check pkl format"
   ]
  },
  {
   "cell_type": "code",
   "execution_count": 1,
   "id": "5cf1e2cc",
   "metadata": {},
   "outputs": [
    {
     "name": "stdout",
     "output_type": "stream",
     "text": [
      "5 sample entries from the dataset:\n",
      "['LOAD', 'UNIQUE', 'CONST', 'REG']\n",
      "['INT_ADD', 'UNIQUE', 'UNIQUE', 'CONST']\n",
      "['LOAD', 'UNIQUE', 'CONST', 'UNIQUE']\n",
      "['INT_EQUAL', 'REG', 'UNIQUE', 'CONST']\n",
      "['CAST', 'UNIQUE', 'UNIQUE']\n"
     ]
    }
   ],
   "source": [
    "import pickle\n",
    "\n",
    "with open(\"/home/tommy/Projects/PcodeBERT/outputs/preprocessed/pcode_corpus_x86_64.pkl\", \"rb\") as f:\n",
    "    data = pickle.load(f)\n",
    "\n",
    "print(f\"5 sample entries from the dataset:\")\n",
    "for entry in data[:5]:\n",
    "    print(entry)"
   ]
  },
  {
   "cell_type": "code",
   "execution_count": null,
   "id": "851ff7ac",
   "metadata": {},
   "outputs": [
    {
     "name": "stdout",
     "output_type": "stream",
     "text": [
      "Foramt of the pkl file\n",
      "<class 'list'>\n",
      "['LOAD', 'UNIQUE', 'CONST', 'REG']\n"
     ]
    }
   ],
   "source": [
    "#Check pkl format\n",
    "\n",
    "print(\"Foramt of the pkl file\")\n",
    "print(type(data))\n",
    "print(data[0])\n",
    "\n"
   ]
  },
  {
   "cell_type": "code",
   "execution_count": null,
   "id": "8755839b",
   "metadata": {},
   "outputs": [],
   "source": [
    "import requests\n",
    "import os\n",
    "\n",
    "# 你的 VulnDB API key\n",
    "# 為了安全，建議從環境變數中讀取\n",
    "VULNDB_API_KEY = os.environ.get(\"853f3f65183fa491e8f30b9fced4ed59\") \n",
    "\n",
    "# VulnDB API 的基本 URL\n",
    "# 請根據你使用的具體 API 端點進行修改\n",
    "VULNDB_API_URL = \"https://www.vulndb.com/api/vulnerability\" \n",
    "\n",
    "def get_vulndb_info(cve_id: str) -> dict:\n",
    "    \"\"\"\n",
    "    從 VulnDB API 取得特定 CVE 漏洞的資訊。\n",
    "    \n",
    "    Args:\n",
    "        cve_id: CVE 的 ID，例如 \"CVE-2023-12345\"。\n",
    "    \n",
    "    Returns:\n",
    "        一個字典，包含 API 回傳的 JSON 資料。\n",
    "    \"\"\"\n",
    "    headers = {\n",
    "        \"Accept\": \"application/json\",\n",
    "        \"Authorization\": f\"Token token={VULNDB_API_KEY}\"\n",
    "    }\n",
    "    \n",
    "    params = {\n",
    "        \"cve_id\": cve_id\n",
    "    }\n",
    "\n",
    "    try:\n",
    "        response = requests.get(VULNDB_API_URL, headers=headers, params=params)\n",
    "        response.raise_for_status()  # 檢查 HTTP 請求是否成功\n",
    "        return response.json()\n",
    "    except requests.exceptions.RequestException as e:\n",
    "        print(f\"Error fetching data from VulnDB: {e}\")\n",
    "        return {}\n",
    "\n",
    "# 測試呼叫\n",
    "# 範例 CVE ID\n",
    "test_cve = \"CVE-2023-34362\"\n",
    "vuln_data = get_vulndb_info(test_cve)\n",
    "\n",
    "if vuln_data:\n",
    "    # 這裡可以解析回傳的 JSON 資料，找到修補措施\n",
    "    # 回傳的資料結構可能很複雜，你需要參考 VulnDB 的 API 文件\n",
    "    print(f\"取得 {test_cve} 的資料：\")\n",
    "    # 簡單印出部分內容，實際應用中應有更複雜的解析邏輯\n",
    "    # print(vuln_data)\n",
    "else:\n",
    "    print(f\"無法取得 {test_cve} 的資料。\")"
   ]
  }
 ],
 "metadata": {
  "kernelspec": {
   "display_name": "PcodeBERT",
   "language": "python",
   "name": "python3"
  },
  "language_info": {
   "codemirror_mode": {
    "name": "ipython",
    "version": 3
   },
   "file_extension": ".py",
   "mimetype": "text/x-python",
   "name": "python",
   "nbconvert_exporter": "python",
   "pygments_lexer": "ipython3",
   "version": "3.12.0"
  }
 },
 "nbformat": 4,
 "nbformat_minor": 5
}
