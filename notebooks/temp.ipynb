{
 "cells": [
  {
   "cell_type": "markdown",
   "id": "e10e650e",
   "metadata": {},
   "source": [
    "CSV"
   ]
  },
  {
   "cell_type": "code",
   "execution_count": null,
   "id": "4ca706df",
   "metadata": {},
   "outputs": [],
   "source": [
    "import pandas as pd\n",
    "\n",
    "file_path = \"/home/tommy/Project/PcodeBERT/dataset/csv/base_dataset_filtered.csv\"\n",
    "\n",
    "\n",
    "with open(file_path, \"r\") as f:\n",
    "    df = pd.read_csv(f)\n",
    "\n",
    "#only save family is benign, mirai, gafgyt, tsunami\n",
    "df = df[df[\"family\"].isin([\"benign\", \"mirai\", \"gafgyt\", \"tsunami\"])]\n",
    "df = df.reset_index(drop=True)\n",
    "df.to_csv(\"/home/tommy/Project/PcodeBERT/dataset/csv/base_dataset_filtered_v2.csv\", index=False)\n"
   ]
  }
 ],
 "metadata": {
  "kernelspec": {
   "display_name": "PcodeBERT",
   "language": "python",
   "name": "python3"
  },
  "language_info": {
   "name": "python",
   "version": "3.12.11"
  }
 },
 "nbformat": 4,
 "nbformat_minor": 5
}
